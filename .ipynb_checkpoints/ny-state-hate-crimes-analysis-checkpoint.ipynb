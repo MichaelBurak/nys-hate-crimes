{
 "cells": [
  {
   "cell_type": "markdown",
   "metadata": {
    "toc": true
   },
   "source": [
    "<h1>Table of Contents<span class=\"tocSkip\"></span></h1>\n",
    "<div class=\"toc\"><ul class=\"toc-item\"><li><span><a href=\"#NY-State-Hate-Crimes-data\" data-toc-modified-id=\"NY-State-Hate-Crimes-data-1\"><span class=\"toc-item-num\">1&nbsp;&nbsp;</span>NY State Hate Crimes data</a></span><ul class=\"toc-item\"><li><span><a href=\"#Import-libraries-&amp;-data\" data-toc-modified-id=\"Import-libraries-&amp;-data-1.1\"><span class=\"toc-item-num\">1.1&nbsp;&nbsp;</span>Import libraries &amp; data</a></span></li><li><span><a href=\"#Initial-high-level-examination-of-data\" data-toc-modified-id=\"Initial-high-level-examination-of-data-1.2\"><span class=\"toc-item-num\">1.2&nbsp;&nbsp;</span>Initial high level examination of data</a></span></li><li><span><a href=\"#Dropping-columns-of-0s\" data-toc-modified-id=\"Dropping-columns-of-0s-1.3\"><span class=\"toc-item-num\">1.3&nbsp;&nbsp;</span>Dropping columns of 0s</a></span><ul class=\"toc-item\"><li><span><a href=\"#Note:-To-be-clear,-Counts-are-numbers-of-incidents\" data-toc-modified-id=\"Note:-To-be-clear,-Counts-are-numbers-of-incidents-1.3.1\"><span class=\"toc-item-num\">1.3.1&nbsp;&nbsp;</span>Note: To be clear, Counts are numbers of incidents</a></span></li></ul></li><li><span><a href=\"#Hate-Crimes-by-NY-County-plot\" data-toc-modified-id=\"Hate-Crimes-by-NY-County-plot-1.4\"><span class=\"toc-item-num\">1.4&nbsp;&nbsp;</span>Hate Crimes by NY County plot</a></span></li></ul></li><li><span><a href=\"#Country,-year,-crime-type-dummy-variables\" data-toc-modified-id=\"Country,-year,-crime-type-dummy-variables-2\"><span class=\"toc-item-num\">2&nbsp;&nbsp;</span>Country, year, crime type dummy variables</a></span></li><li><span><a href=\"#Modeling----predicting-w/regression-Anti-Gay-Male-crime\" data-toc-modified-id=\"Modeling----predicting-w/regression-Anti-Gay-Male-crime-3\"><span class=\"toc-item-num\">3&nbsp;&nbsp;</span>Modeling -- predicting w/regression Anti-Gay Male crime</a></span><ul class=\"toc-item\"><li><span><a href=\"#Creating-x/y-test/train-split\" data-toc-modified-id=\"Creating-x/y-test/train-split-3.1\"><span class=\"toc-item-num\">3.1&nbsp;&nbsp;</span>Creating x/y test/train split</a></span></li><li><span><a href=\"#Decision-Tree-Regression\" data-toc-modified-id=\"Decision-Tree-Regression-3.2\"><span class=\"toc-item-num\">3.2&nbsp;&nbsp;</span>Decision Tree Regression</a></span><ul class=\"toc-item\"><li><span><a href=\"#Residiuals-plot----DT-Regressor\" data-toc-modified-id=\"Residiuals-plot----DT-Regressor-3.2.1\"><span class=\"toc-item-num\">3.2.1&nbsp;&nbsp;</span>Residiuals plot -- DT Regressor</a></span></li></ul></li><li><span><a href=\"#AdaBoostRegressor\" data-toc-modified-id=\"AdaBoostRegressor-3.3\"><span class=\"toc-item-num\">3.3&nbsp;&nbsp;</span>AdaBoostRegressor</a></span></li><li><span><a href=\"#Lasso\" data-toc-modified-id=\"Lasso-3.4\"><span class=\"toc-item-num\">3.4&nbsp;&nbsp;</span>Lasso</a></span></li><li><span><a href=\"#Elastic-Net\" data-toc-modified-id=\"Elastic-Net-3.5\"><span class=\"toc-item-num\">3.5&nbsp;&nbsp;</span>Elastic Net</a></span></li></ul></li></ul></div>"
   ]
  },
  {
   "cell_type": "markdown",
   "metadata": {},
   "source": [
    "# NY State Hate Crimes data\n",
    "## Import libraries & data"
   ]
  },
  {
   "cell_type": "code",
   "execution_count": 1,
   "metadata": {
    "ExecuteTime": {
     "end_time": "2020-12-27T11:14:43.394174Z",
     "start_time": "2020-12-27T11:14:25.182403Z"
    }
   },
   "outputs": [
    {
     "name": "stderr",
     "output_type": "stream",
     "text": [
      "/Users/michaelburak/opt/anaconda3/lib/python3.7/site-packages/sklearn/utils/deprecation.py:144: FutureWarning: The sklearn.metrics.classification module is  deprecated in version 0.22 and will be removed in version 0.24. The corresponding classes / functions should instead be imported from sklearn.metrics. Anything that cannot be imported from sklearn.metrics is now part of the private API.\n",
      "  warnings.warn(message, FutureWarning)\n"
     ]
    }
   ],
   "source": [
    "import matplotlib.pyplot as plt \n",
    "import seaborn as sns \n",
    "import numpy as np \n",
    "import pandas as pd \n",
    "import missingno as msno \n",
    "import yellowbrick "
   ]
  },
  {
   "cell_type": "code",
   "execution_count": 2,
   "metadata": {
    "ExecuteTime": {
     "end_time": "2020-12-27T11:14:43.443323Z",
     "start_time": "2020-12-27T11:14:43.434669Z"
    }
   },
   "outputs": [],
   "source": [
    "from yellowbrick.style import set_palette\n",
    "set_palette('flatui')\n",
    "sns.set_context(\"poster\")\n",
    "# plt.style.use('fivethirtyeight')"
   ]
  },
  {
   "cell_type": "code",
   "execution_count": 3,
   "metadata": {
    "ExecuteTime": {
     "end_time": "2020-12-27T11:14:43.716299Z",
     "start_time": "2020-12-27T11:14:43.453088Z"
    }
   },
   "outputs": [
    {
     "data": {
      "text/html": [
       "<div>\n",
       "<style scoped>\n",
       "    .dataframe tbody tr th:only-of-type {\n",
       "        vertical-align: middle;\n",
       "    }\n",
       "\n",
       "    .dataframe tbody tr th {\n",
       "        vertical-align: top;\n",
       "    }\n",
       "\n",
       "    .dataframe thead th {\n",
       "        text-align: right;\n",
       "    }\n",
       "</style>\n",
       "<table border=\"1\" class=\"dataframe\">\n",
       "  <thead>\n",
       "    <tr style=\"text-align: right;\">\n",
       "      <th></th>\n",
       "      <th>County</th>\n",
       "      <th>Year</th>\n",
       "      <th>Crime Type</th>\n",
       "      <th>Anti-Male</th>\n",
       "      <th>Anti-Female</th>\n",
       "      <th>Anti-Transgender</th>\n",
       "      <th>Anti-Gender Identity Expression</th>\n",
       "      <th>Anti-Age*</th>\n",
       "      <th>Anti-White</th>\n",
       "      <th>Anti-Black</th>\n",
       "      <th>...</th>\n",
       "      <th>Anti-Gay Male</th>\n",
       "      <th>Anti-Gay Female</th>\n",
       "      <th>Anti-Gay (Male and Female)</th>\n",
       "      <th>Anti-Heterosexual</th>\n",
       "      <th>Anti-Bisexual</th>\n",
       "      <th>Anti-Physical Disability</th>\n",
       "      <th>Anti-Mental Disability</th>\n",
       "      <th>Total Incidents</th>\n",
       "      <th>Total Victims</th>\n",
       "      <th>Total Offenders</th>\n",
       "    </tr>\n",
       "  </thead>\n",
       "  <tbody>\n",
       "    <tr>\n",
       "      <th>0</th>\n",
       "      <td>Albany</td>\n",
       "      <td>2016</td>\n",
       "      <td>Crimes Against Persons</td>\n",
       "      <td>0</td>\n",
       "      <td>0</td>\n",
       "      <td>0</td>\n",
       "      <td>0</td>\n",
       "      <td>0</td>\n",
       "      <td>0</td>\n",
       "      <td>1</td>\n",
       "      <td>...</td>\n",
       "      <td>1</td>\n",
       "      <td>0</td>\n",
       "      <td>0</td>\n",
       "      <td>0</td>\n",
       "      <td>0</td>\n",
       "      <td>0</td>\n",
       "      <td>0</td>\n",
       "      <td>3</td>\n",
       "      <td>4</td>\n",
       "      <td>3</td>\n",
       "    </tr>\n",
       "    <tr>\n",
       "      <th>1</th>\n",
       "      <td>Albany</td>\n",
       "      <td>2016</td>\n",
       "      <td>Property Crimes</td>\n",
       "      <td>0</td>\n",
       "      <td>0</td>\n",
       "      <td>0</td>\n",
       "      <td>0</td>\n",
       "      <td>0</td>\n",
       "      <td>0</td>\n",
       "      <td>2</td>\n",
       "      <td>...</td>\n",
       "      <td>0</td>\n",
       "      <td>0</td>\n",
       "      <td>0</td>\n",
       "      <td>0</td>\n",
       "      <td>0</td>\n",
       "      <td>0</td>\n",
       "      <td>0</td>\n",
       "      <td>3</td>\n",
       "      <td>3</td>\n",
       "      <td>3</td>\n",
       "    </tr>\n",
       "    <tr>\n",
       "      <th>2</th>\n",
       "      <td>Allegany</td>\n",
       "      <td>2016</td>\n",
       "      <td>Property Crimes</td>\n",
       "      <td>0</td>\n",
       "      <td>0</td>\n",
       "      <td>0</td>\n",
       "      <td>0</td>\n",
       "      <td>0</td>\n",
       "      <td>0</td>\n",
       "      <td>1</td>\n",
       "      <td>...</td>\n",
       "      <td>0</td>\n",
       "      <td>0</td>\n",
       "      <td>0</td>\n",
       "      <td>0</td>\n",
       "      <td>0</td>\n",
       "      <td>0</td>\n",
       "      <td>0</td>\n",
       "      <td>1</td>\n",
       "      <td>1</td>\n",
       "      <td>1</td>\n",
       "    </tr>\n",
       "    <tr>\n",
       "      <th>3</th>\n",
       "      <td>Bronx</td>\n",
       "      <td>2016</td>\n",
       "      <td>Crimes Against Persons</td>\n",
       "      <td>0</td>\n",
       "      <td>0</td>\n",
       "      <td>4</td>\n",
       "      <td>0</td>\n",
       "      <td>0</td>\n",
       "      <td>1</td>\n",
       "      <td>0</td>\n",
       "      <td>...</td>\n",
       "      <td>8</td>\n",
       "      <td>1</td>\n",
       "      <td>0</td>\n",
       "      <td>0</td>\n",
       "      <td>0</td>\n",
       "      <td>0</td>\n",
       "      <td>0</td>\n",
       "      <td>20</td>\n",
       "      <td>20</td>\n",
       "      <td>25</td>\n",
       "    </tr>\n",
       "    <tr>\n",
       "      <th>4</th>\n",
       "      <td>Bronx</td>\n",
       "      <td>2016</td>\n",
       "      <td>Property Crimes</td>\n",
       "      <td>0</td>\n",
       "      <td>0</td>\n",
       "      <td>0</td>\n",
       "      <td>0</td>\n",
       "      <td>0</td>\n",
       "      <td>1</td>\n",
       "      <td>0</td>\n",
       "      <td>...</td>\n",
       "      <td>0</td>\n",
       "      <td>0</td>\n",
       "      <td>0</td>\n",
       "      <td>0</td>\n",
       "      <td>0</td>\n",
       "      <td>0</td>\n",
       "      <td>0</td>\n",
       "      <td>2</td>\n",
       "      <td>2</td>\n",
       "      <td>2</td>\n",
       "    </tr>\n",
       "    <tr>\n",
       "      <th>5</th>\n",
       "      <td>Broome</td>\n",
       "      <td>2016</td>\n",
       "      <td>Crimes Against Persons</td>\n",
       "      <td>0</td>\n",
       "      <td>0</td>\n",
       "      <td>0</td>\n",
       "      <td>0</td>\n",
       "      <td>0</td>\n",
       "      <td>0</td>\n",
       "      <td>1</td>\n",
       "      <td>...</td>\n",
       "      <td>1</td>\n",
       "      <td>0</td>\n",
       "      <td>0</td>\n",
       "      <td>0</td>\n",
       "      <td>0</td>\n",
       "      <td>0</td>\n",
       "      <td>0</td>\n",
       "      <td>3</td>\n",
       "      <td>3</td>\n",
       "      <td>3</td>\n",
       "    </tr>\n",
       "    <tr>\n",
       "      <th>6</th>\n",
       "      <td>Cayuga</td>\n",
       "      <td>2016</td>\n",
       "      <td>Property Crimes</td>\n",
       "      <td>0</td>\n",
       "      <td>0</td>\n",
       "      <td>0</td>\n",
       "      <td>0</td>\n",
       "      <td>0</td>\n",
       "      <td>0</td>\n",
       "      <td>0</td>\n",
       "      <td>...</td>\n",
       "      <td>0</td>\n",
       "      <td>0</td>\n",
       "      <td>0</td>\n",
       "      <td>0</td>\n",
       "      <td>0</td>\n",
       "      <td>0</td>\n",
       "      <td>0</td>\n",
       "      <td>1</td>\n",
       "      <td>1</td>\n",
       "      <td>1</td>\n",
       "    </tr>\n",
       "    <tr>\n",
       "      <th>7</th>\n",
       "      <td>Chemung</td>\n",
       "      <td>2016</td>\n",
       "      <td>Crimes Against Persons</td>\n",
       "      <td>0</td>\n",
       "      <td>0</td>\n",
       "      <td>0</td>\n",
       "      <td>0</td>\n",
       "      <td>0</td>\n",
       "      <td>0</td>\n",
       "      <td>1</td>\n",
       "      <td>...</td>\n",
       "      <td>0</td>\n",
       "      <td>0</td>\n",
       "      <td>0</td>\n",
       "      <td>0</td>\n",
       "      <td>0</td>\n",
       "      <td>0</td>\n",
       "      <td>0</td>\n",
       "      <td>1</td>\n",
       "      <td>1</td>\n",
       "      <td>1</td>\n",
       "    </tr>\n",
       "    <tr>\n",
       "      <th>8</th>\n",
       "      <td>Chemung</td>\n",
       "      <td>2016</td>\n",
       "      <td>Property Crimes</td>\n",
       "      <td>0</td>\n",
       "      <td>0</td>\n",
       "      <td>0</td>\n",
       "      <td>0</td>\n",
       "      <td>0</td>\n",
       "      <td>0</td>\n",
       "      <td>0</td>\n",
       "      <td>...</td>\n",
       "      <td>0</td>\n",
       "      <td>0</td>\n",
       "      <td>0</td>\n",
       "      <td>0</td>\n",
       "      <td>0</td>\n",
       "      <td>0</td>\n",
       "      <td>0</td>\n",
       "      <td>1</td>\n",
       "      <td>1</td>\n",
       "      <td>1</td>\n",
       "    </tr>\n",
       "    <tr>\n",
       "      <th>9</th>\n",
       "      <td>Chenango</td>\n",
       "      <td>2016</td>\n",
       "      <td>Crimes Against Persons</td>\n",
       "      <td>0</td>\n",
       "      <td>0</td>\n",
       "      <td>0</td>\n",
       "      <td>0</td>\n",
       "      <td>0</td>\n",
       "      <td>0</td>\n",
       "      <td>2</td>\n",
       "      <td>...</td>\n",
       "      <td>0</td>\n",
       "      <td>0</td>\n",
       "      <td>0</td>\n",
       "      <td>0</td>\n",
       "      <td>0</td>\n",
       "      <td>0</td>\n",
       "      <td>0</td>\n",
       "      <td>2</td>\n",
       "      <td>2</td>\n",
       "      <td>2</td>\n",
       "    </tr>\n",
       "    <tr>\n",
       "      <th>10</th>\n",
       "      <td>Clinton</td>\n",
       "      <td>2016</td>\n",
       "      <td>Property Crimes</td>\n",
       "      <td>0</td>\n",
       "      <td>0</td>\n",
       "      <td>0</td>\n",
       "      <td>0</td>\n",
       "      <td>0</td>\n",
       "      <td>0</td>\n",
       "      <td>1</td>\n",
       "      <td>...</td>\n",
       "      <td>0</td>\n",
       "      <td>0</td>\n",
       "      <td>0</td>\n",
       "      <td>0</td>\n",
       "      <td>0</td>\n",
       "      <td>0</td>\n",
       "      <td>0</td>\n",
       "      <td>2</td>\n",
       "      <td>2</td>\n",
       "      <td>2</td>\n",
       "    </tr>\n",
       "    <tr>\n",
       "      <th>11</th>\n",
       "      <td>Dutchess</td>\n",
       "      <td>2016</td>\n",
       "      <td>Property Crimes</td>\n",
       "      <td>0</td>\n",
       "      <td>0</td>\n",
       "      <td>0</td>\n",
       "      <td>0</td>\n",
       "      <td>0</td>\n",
       "      <td>0</td>\n",
       "      <td>0</td>\n",
       "      <td>...</td>\n",
       "      <td>0</td>\n",
       "      <td>0</td>\n",
       "      <td>0</td>\n",
       "      <td>0</td>\n",
       "      <td>0</td>\n",
       "      <td>0</td>\n",
       "      <td>0</td>\n",
       "      <td>1</td>\n",
       "      <td>2</td>\n",
       "      <td>1</td>\n",
       "    </tr>\n",
       "    <tr>\n",
       "      <th>12</th>\n",
       "      <td>Erie</td>\n",
       "      <td>2016</td>\n",
       "      <td>Crimes Against Persons</td>\n",
       "      <td>0</td>\n",
       "      <td>0</td>\n",
       "      <td>0</td>\n",
       "      <td>0</td>\n",
       "      <td>0</td>\n",
       "      <td>2</td>\n",
       "      <td>5</td>\n",
       "      <td>...</td>\n",
       "      <td>1</td>\n",
       "      <td>0</td>\n",
       "      <td>0</td>\n",
       "      <td>0</td>\n",
       "      <td>0</td>\n",
       "      <td>0</td>\n",
       "      <td>0</td>\n",
       "      <td>10</td>\n",
       "      <td>10</td>\n",
       "      <td>11</td>\n",
       "    </tr>\n",
       "    <tr>\n",
       "      <th>13</th>\n",
       "      <td>Erie</td>\n",
       "      <td>2016</td>\n",
       "      <td>Property Crimes</td>\n",
       "      <td>0</td>\n",
       "      <td>0</td>\n",
       "      <td>0</td>\n",
       "      <td>3</td>\n",
       "      <td>0</td>\n",
       "      <td>0</td>\n",
       "      <td>3</td>\n",
       "      <td>...</td>\n",
       "      <td>1</td>\n",
       "      <td>0</td>\n",
       "      <td>0</td>\n",
       "      <td>0</td>\n",
       "      <td>0</td>\n",
       "      <td>0</td>\n",
       "      <td>0</td>\n",
       "      <td>10</td>\n",
       "      <td>10</td>\n",
       "      <td>10</td>\n",
       "    </tr>\n",
       "    <tr>\n",
       "      <th>14</th>\n",
       "      <td>Essex</td>\n",
       "      <td>2016</td>\n",
       "      <td>Property Crimes</td>\n",
       "      <td>0</td>\n",
       "      <td>0</td>\n",
       "      <td>0</td>\n",
       "      <td>0</td>\n",
       "      <td>0</td>\n",
       "      <td>0</td>\n",
       "      <td>1</td>\n",
       "      <td>...</td>\n",
       "      <td>0</td>\n",
       "      <td>0</td>\n",
       "      <td>0</td>\n",
       "      <td>0</td>\n",
       "      <td>0</td>\n",
       "      <td>0</td>\n",
       "      <td>0</td>\n",
       "      <td>1</td>\n",
       "      <td>1</td>\n",
       "      <td>1</td>\n",
       "    </tr>\n",
       "    <tr>\n",
       "      <th>15</th>\n",
       "      <td>Franklin</td>\n",
       "      <td>2016</td>\n",
       "      <td>Crimes Against Persons</td>\n",
       "      <td>0</td>\n",
       "      <td>0</td>\n",
       "      <td>0</td>\n",
       "      <td>0</td>\n",
       "      <td>0</td>\n",
       "      <td>0</td>\n",
       "      <td>0</td>\n",
       "      <td>...</td>\n",
       "      <td>1</td>\n",
       "      <td>0</td>\n",
       "      <td>0</td>\n",
       "      <td>0</td>\n",
       "      <td>0</td>\n",
       "      <td>0</td>\n",
       "      <td>0</td>\n",
       "      <td>1</td>\n",
       "      <td>1</td>\n",
       "      <td>1</td>\n",
       "    </tr>\n",
       "    <tr>\n",
       "      <th>16</th>\n",
       "      <td>Jefferson</td>\n",
       "      <td>2016</td>\n",
       "      <td>Crimes Against Persons</td>\n",
       "      <td>0</td>\n",
       "      <td>0</td>\n",
       "      <td>0</td>\n",
       "      <td>0</td>\n",
       "      <td>0</td>\n",
       "      <td>0</td>\n",
       "      <td>0</td>\n",
       "      <td>...</td>\n",
       "      <td>0</td>\n",
       "      <td>1</td>\n",
       "      <td>0</td>\n",
       "      <td>0</td>\n",
       "      <td>0</td>\n",
       "      <td>0</td>\n",
       "      <td>0</td>\n",
       "      <td>1</td>\n",
       "      <td>1</td>\n",
       "      <td>1</td>\n",
       "    </tr>\n",
       "    <tr>\n",
       "      <th>17</th>\n",
       "      <td>Jefferson</td>\n",
       "      <td>2016</td>\n",
       "      <td>Property Crimes</td>\n",
       "      <td>0</td>\n",
       "      <td>0</td>\n",
       "      <td>0</td>\n",
       "      <td>0</td>\n",
       "      <td>0</td>\n",
       "      <td>0</td>\n",
       "      <td>0</td>\n",
       "      <td>...</td>\n",
       "      <td>0</td>\n",
       "      <td>0</td>\n",
       "      <td>0</td>\n",
       "      <td>0</td>\n",
       "      <td>0</td>\n",
       "      <td>0</td>\n",
       "      <td>0</td>\n",
       "      <td>1</td>\n",
       "      <td>1</td>\n",
       "      <td>1</td>\n",
       "    </tr>\n",
       "    <tr>\n",
       "      <th>18</th>\n",
       "      <td>Kings</td>\n",
       "      <td>2016</td>\n",
       "      <td>Crimes Against Persons</td>\n",
       "      <td>0</td>\n",
       "      <td>0</td>\n",
       "      <td>5</td>\n",
       "      <td>0</td>\n",
       "      <td>0</td>\n",
       "      <td>6</td>\n",
       "      <td>4</td>\n",
       "      <td>...</td>\n",
       "      <td>16</td>\n",
       "      <td>3</td>\n",
       "      <td>0</td>\n",
       "      <td>0</td>\n",
       "      <td>0</td>\n",
       "      <td>0</td>\n",
       "      <td>0</td>\n",
       "      <td>75</td>\n",
       "      <td>75</td>\n",
       "      <td>81</td>\n",
       "    </tr>\n",
       "    <tr>\n",
       "      <th>19</th>\n",
       "      <td>Kings</td>\n",
       "      <td>2016</td>\n",
       "      <td>Property Crimes</td>\n",
       "      <td>0</td>\n",
       "      <td>0</td>\n",
       "      <td>0</td>\n",
       "      <td>0</td>\n",
       "      <td>0</td>\n",
       "      <td>1</td>\n",
       "      <td>2</td>\n",
       "      <td>...</td>\n",
       "      <td>2</td>\n",
       "      <td>0</td>\n",
       "      <td>0</td>\n",
       "      <td>0</td>\n",
       "      <td>0</td>\n",
       "      <td>0</td>\n",
       "      <td>0</td>\n",
       "      <td>64</td>\n",
       "      <td>66</td>\n",
       "      <td>69</td>\n",
       "    </tr>\n",
       "  </tbody>\n",
       "</table>\n",
       "<p>20 rows × 44 columns</p>\n",
       "</div>"
      ],
      "text/plain": [
       "       County  Year              Crime Type  Anti-Male  Anti-Female  \\\n",
       "0      Albany  2016  Crimes Against Persons          0            0   \n",
       "1      Albany  2016         Property Crimes          0            0   \n",
       "2    Allegany  2016         Property Crimes          0            0   \n",
       "3       Bronx  2016  Crimes Against Persons          0            0   \n",
       "4       Bronx  2016         Property Crimes          0            0   \n",
       "5      Broome  2016  Crimes Against Persons          0            0   \n",
       "6      Cayuga  2016         Property Crimes          0            0   \n",
       "7     Chemung  2016  Crimes Against Persons          0            0   \n",
       "8     Chemung  2016         Property Crimes          0            0   \n",
       "9    Chenango  2016  Crimes Against Persons          0            0   \n",
       "10    Clinton  2016         Property Crimes          0            0   \n",
       "11   Dutchess  2016         Property Crimes          0            0   \n",
       "12       Erie  2016  Crimes Against Persons          0            0   \n",
       "13       Erie  2016         Property Crimes          0            0   \n",
       "14      Essex  2016         Property Crimes          0            0   \n",
       "15   Franklin  2016  Crimes Against Persons          0            0   \n",
       "16  Jefferson  2016  Crimes Against Persons          0            0   \n",
       "17  Jefferson  2016         Property Crimes          0            0   \n",
       "18      Kings  2016  Crimes Against Persons          0            0   \n",
       "19      Kings  2016         Property Crimes          0            0   \n",
       "\n",
       "    Anti-Transgender  Anti-Gender Identity Expression  Anti-Age*  Anti-White  \\\n",
       "0                  0                                0          0           0   \n",
       "1                  0                                0          0           0   \n",
       "2                  0                                0          0           0   \n",
       "3                  4                                0          0           1   \n",
       "4                  0                                0          0           1   \n",
       "5                  0                                0          0           0   \n",
       "6                  0                                0          0           0   \n",
       "7                  0                                0          0           0   \n",
       "8                  0                                0          0           0   \n",
       "9                  0                                0          0           0   \n",
       "10                 0                                0          0           0   \n",
       "11                 0                                0          0           0   \n",
       "12                 0                                0          0           2   \n",
       "13                 0                                3          0           0   \n",
       "14                 0                                0          0           0   \n",
       "15                 0                                0          0           0   \n",
       "16                 0                                0          0           0   \n",
       "17                 0                                0          0           0   \n",
       "18                 5                                0          0           6   \n",
       "19                 0                                0          0           1   \n",
       "\n",
       "    Anti-Black  ...  Anti-Gay Male  Anti-Gay Female  \\\n",
       "0            1  ...              1                0   \n",
       "1            2  ...              0                0   \n",
       "2            1  ...              0                0   \n",
       "3            0  ...              8                1   \n",
       "4            0  ...              0                0   \n",
       "5            1  ...              1                0   \n",
       "6            0  ...              0                0   \n",
       "7            1  ...              0                0   \n",
       "8            0  ...              0                0   \n",
       "9            2  ...              0                0   \n",
       "10           1  ...              0                0   \n",
       "11           0  ...              0                0   \n",
       "12           5  ...              1                0   \n",
       "13           3  ...              1                0   \n",
       "14           1  ...              0                0   \n",
       "15           0  ...              1                0   \n",
       "16           0  ...              0                1   \n",
       "17           0  ...              0                0   \n",
       "18           4  ...             16                3   \n",
       "19           2  ...              2                0   \n",
       "\n",
       "    Anti-Gay (Male and Female)  Anti-Heterosexual  Anti-Bisexual  \\\n",
       "0                            0                  0              0   \n",
       "1                            0                  0              0   \n",
       "2                            0                  0              0   \n",
       "3                            0                  0              0   \n",
       "4                            0                  0              0   \n",
       "5                            0                  0              0   \n",
       "6                            0                  0              0   \n",
       "7                            0                  0              0   \n",
       "8                            0                  0              0   \n",
       "9                            0                  0              0   \n",
       "10                           0                  0              0   \n",
       "11                           0                  0              0   \n",
       "12                           0                  0              0   \n",
       "13                           0                  0              0   \n",
       "14                           0                  0              0   \n",
       "15                           0                  0              0   \n",
       "16                           0                  0              0   \n",
       "17                           0                  0              0   \n",
       "18                           0                  0              0   \n",
       "19                           0                  0              0   \n",
       "\n",
       "    Anti-Physical Disability  Anti-Mental Disability  Total Incidents  \\\n",
       "0                          0                       0                3   \n",
       "1                          0                       0                3   \n",
       "2                          0                       0                1   \n",
       "3                          0                       0               20   \n",
       "4                          0                       0                2   \n",
       "5                          0                       0                3   \n",
       "6                          0                       0                1   \n",
       "7                          0                       0                1   \n",
       "8                          0                       0                1   \n",
       "9                          0                       0                2   \n",
       "10                         0                       0                2   \n",
       "11                         0                       0                1   \n",
       "12                         0                       0               10   \n",
       "13                         0                       0               10   \n",
       "14                         0                       0                1   \n",
       "15                         0                       0                1   \n",
       "16                         0                       0                1   \n",
       "17                         0                       0                1   \n",
       "18                         0                       0               75   \n",
       "19                         0                       0               64   \n",
       "\n",
       "    Total Victims  Total Offenders  \n",
       "0               4                3  \n",
       "1               3                3  \n",
       "2               1                1  \n",
       "3              20               25  \n",
       "4               2                2  \n",
       "5               3                3  \n",
       "6               1                1  \n",
       "7               1                1  \n",
       "8               1                1  \n",
       "9               2                2  \n",
       "10              2                2  \n",
       "11              2                1  \n",
       "12             10               11  \n",
       "13             10               10  \n",
       "14              1                1  \n",
       "15              1                1  \n",
       "16              1                1  \n",
       "17              1                1  \n",
       "18             75               81  \n",
       "19             66               69  \n",
       "\n",
       "[20 rows x 44 columns]"
      ]
     },
     "execution_count": 3,
     "metadata": {},
     "output_type": "execute_result"
    }
   ],
   "source": [
    "df = pd.read_csv(\"hate-crimes-by-county-and-bias-type-beginning-2010.csv\")\n",
    "\n",
    "df.head(20)"
   ]
  },
  {
   "cell_type": "markdown",
   "metadata": {},
   "source": [
    "## Initial high level examination of data"
   ]
  },
  {
   "cell_type": "code",
   "execution_count": 4,
   "metadata": {
    "ExecuteTime": {
     "end_time": "2020-12-27T11:14:43.844904Z",
     "start_time": "2020-12-27T11:14:43.731344Z"
    },
    "scrolled": true
   },
   "outputs": [
    {
     "name": "stdout",
     "output_type": "stream",
     "text": [
      "<class 'pandas.core.frame.DataFrame'>\n",
      "RangeIndex: 423 entries, 0 to 422\n",
      "Data columns (total 44 columns):\n",
      " #   Column                                        Non-Null Count  Dtype \n",
      "---  ------                                        --------------  ----- \n",
      " 0   County                                        423 non-null    object\n",
      " 1   Year                                          423 non-null    int64 \n",
      " 2   Crime Type                                    423 non-null    object\n",
      " 3   Anti-Male                                     423 non-null    int64 \n",
      " 4   Anti-Female                                   423 non-null    int64 \n",
      " 5   Anti-Transgender                              423 non-null    int64 \n",
      " 6   Anti-Gender Identity Expression               423 non-null    int64 \n",
      " 7   Anti-Age*                                     423 non-null    int64 \n",
      " 8   Anti-White                                    423 non-null    int64 \n",
      " 9   Anti-Black                                    423 non-null    int64 \n",
      " 10  Anti-American Indian/Alaskan Native           423 non-null    int64 \n",
      " 11  Anti-Asian                                    423 non-null    int64 \n",
      " 12  Anti-Native Hawaiian/Pacific Islander         423 non-null    int64 \n",
      " 13  Anti-Multi-Racial Groups                      423 non-null    int64 \n",
      " 14  Anti-Other Race                               423 non-null    int64 \n",
      " 15  Anti-Jewish                                   423 non-null    int64 \n",
      " 16  Anti-Catholic                                 423 non-null    int64 \n",
      " 17  Anti-Protestant                               423 non-null    int64 \n",
      " 18  Anti-Islamic (Muslim)                         423 non-null    int64 \n",
      " 19  Anti-Multi-Religious Groups                   423 non-null    int64 \n",
      " 20  Anti-Atheism/Agnosticism                      423 non-null    int64 \n",
      " 21  Anti-Religious Practice Generally             423 non-null    int64 \n",
      " 22  Anti-Other Religion                           423 non-null    int64 \n",
      " 23  Anti-Buddhist                                 423 non-null    int64 \n",
      " 24  Anti-Eastern Orthodox (Greek, Russian, etc.)  423 non-null    int64 \n",
      " 25  Anti-Hindu                                    423 non-null    int64 \n",
      " 26  Anti-Jehovahs Witness                         423 non-null    int64 \n",
      " 27  Anti-Mormon                                   423 non-null    int64 \n",
      " 28  Anti-Other Christian                          423 non-null    int64 \n",
      " 29  Anti-Sikh                                     423 non-null    int64 \n",
      " 30  Anti-Hispanic                                 423 non-null    int64 \n",
      " 31  Anti-Arab                                     423 non-null    int64 \n",
      " 32  Anti-Other Ethnicity/National Origin          423 non-null    int64 \n",
      " 33  Anti-Non-Hispanic*                            423 non-null    int64 \n",
      " 34  Anti-Gay Male                                 423 non-null    int64 \n",
      " 35  Anti-Gay Female                               423 non-null    int64 \n",
      " 36  Anti-Gay (Male and Female)                    423 non-null    int64 \n",
      " 37  Anti-Heterosexual                             423 non-null    int64 \n",
      " 38  Anti-Bisexual                                 423 non-null    int64 \n",
      " 39  Anti-Physical Disability                      423 non-null    int64 \n",
      " 40  Anti-Mental Disability                        423 non-null    int64 \n",
      " 41  Total Incidents                               423 non-null    int64 \n",
      " 42  Total Victims                                 423 non-null    int64 \n",
      " 43  Total Offenders                               423 non-null    int64 \n",
      "dtypes: int64(42), object(2)\n",
      "memory usage: 145.5+ KB\n"
     ]
    }
   ],
   "source": [
    "df.info()"
   ]
  },
  {
   "cell_type": "code",
   "execution_count": 5,
   "metadata": {
    "ExecuteTime": {
     "end_time": "2020-12-27T11:14:43.915153Z",
     "start_time": "2020-12-27T11:14:43.856141Z"
    }
   },
   "outputs": [
    {
     "data": {
      "text/plain": [
       "County                                          60\n",
       "Year                                             7\n",
       "Crime Type                                       2\n",
       "Anti-Male                                        2\n",
       "Anti-Female                                      2\n",
       "Anti-Transgender                                 5\n",
       "Anti-Gender Identity Expression                  4\n",
       "Anti-Age*                                        5\n",
       "Anti-White                                       9\n",
       "Anti-Black                                      14\n",
       "Anti-American Indian/Alaskan Native              2\n",
       "Anti-Asian                                       7\n",
       "Anti-Native Hawaiian/Pacific Islander            1\n",
       "Anti-Multi-Racial Groups                         4\n",
       "Anti-Other Race                                  1\n",
       "Anti-Jewish                                     35\n",
       "Anti-Catholic                                    9\n",
       "Anti-Protestant                                  2\n",
       "Anti-Islamic (Muslim)                           10\n",
       "Anti-Multi-Religious Groups                      5\n",
       "Anti-Atheism/Agnosticism                         1\n",
       "Anti-Religious Practice Generally                3\n",
       "Anti-Other Religion                              5\n",
       "Anti-Buddhist                                    1\n",
       "Anti-Eastern Orthodox (Greek, Russian, etc.)     2\n",
       "Anti-Hindu                                       2\n",
       "Anti-Jehovahs Witness                            1\n",
       "Anti-Mormon                                      1\n",
       "Anti-Other Christian                             4\n",
       "Anti-Sikh                                        1\n",
       "Anti-Hispanic                                    9\n",
       "Anti-Arab                                        3\n",
       "Anti-Other Ethnicity/National Origin             7\n",
       "Anti-Non-Hispanic*                               1\n",
       "Anti-Gay Male                                   22\n",
       "Anti-Gay Female                                  7\n",
       "Anti-Gay (Male and Female)                       4\n",
       "Anti-Heterosexual                                2\n",
       "Anti-Bisexual                                    2\n",
       "Anti-Physical Disability                         2\n",
       "Anti-Mental Disability                           2\n",
       "Total Incidents                                 52\n",
       "Total Victims                                   56\n",
       "Total Offenders                                 64\n",
       "dtype: int64"
      ]
     },
     "execution_count": 5,
     "metadata": {},
     "output_type": "execute_result"
    }
   ],
   "source": [
    "df.nunique()"
   ]
  },
  {
   "cell_type": "markdown",
   "metadata": {},
   "source": [
    "## Dropping columns of 0s"
   ]
  },
  {
   "cell_type": "code",
   "execution_count": 6,
   "metadata": {
    "ExecuteTime": {
     "end_time": "2020-12-27T11:14:44.063875Z",
     "start_time": "2020-12-27T11:14:43.922965Z"
    }
   },
   "outputs": [],
   "source": [
    "df = df.drop(columns=['Anti-Native Hawaiian/Pacific Islander','Anti-Other Race','Anti-Atheism/Agnosticism',\n",
    "                      'Anti-Buddhist','Anti-Jehovahs Witness','Anti-Mormon','Anti-Sikh','Anti-Non-Hispanic*'],axis=1)"
   ]
  },
  {
   "cell_type": "code",
   "execution_count": 7,
   "metadata": {
    "ExecuteTime": {
     "end_time": "2020-12-27T11:14:44.114342Z",
     "start_time": "2020-12-27T11:14:44.070666Z"
    }
   },
   "outputs": [
    {
     "data": {
      "text/plain": [
       "County                                          60\n",
       "Year                                             7\n",
       "Crime Type                                       2\n",
       "Anti-Male                                        2\n",
       "Anti-Female                                      2\n",
       "Anti-Transgender                                 5\n",
       "Anti-Gender Identity Expression                  4\n",
       "Anti-Age*                                        5\n",
       "Anti-White                                       9\n",
       "Anti-Black                                      14\n",
       "Anti-American Indian/Alaskan Native              2\n",
       "Anti-Asian                                       7\n",
       "Anti-Multi-Racial Groups                         4\n",
       "Anti-Jewish                                     35\n",
       "Anti-Catholic                                    9\n",
       "Anti-Protestant                                  2\n",
       "Anti-Islamic (Muslim)                           10\n",
       "Anti-Multi-Religious Groups                      5\n",
       "Anti-Religious Practice Generally                3\n",
       "Anti-Other Religion                              5\n",
       "Anti-Eastern Orthodox (Greek, Russian, etc.)     2\n",
       "Anti-Hindu                                       2\n",
       "Anti-Other Christian                             4\n",
       "Anti-Hispanic                                    9\n",
       "Anti-Arab                                        3\n",
       "Anti-Other Ethnicity/National Origin             7\n",
       "Anti-Gay Male                                   22\n",
       "Anti-Gay Female                                  7\n",
       "Anti-Gay (Male and Female)                       4\n",
       "Anti-Heterosexual                                2\n",
       "Anti-Bisexual                                    2\n",
       "Anti-Physical Disability                         2\n",
       "Anti-Mental Disability                           2\n",
       "Total Incidents                                 52\n",
       "Total Victims                                   56\n",
       "Total Offenders                                 64\n",
       "dtype: int64"
      ]
     },
     "execution_count": 7,
     "metadata": {},
     "output_type": "execute_result"
    }
   ],
   "source": [
    "df.nunique()"
   ]
  },
  {
   "cell_type": "markdown",
   "metadata": {
    "ExecuteTime": {
     "end_time": "2020-12-27T06:34:34.346753Z",
     "start_time": "2020-12-27T06:34:34.344911Z"
    }
   },
   "source": [
    "### Note: To be clear, Counts are numbers of incidents"
   ]
  },
  {
   "cell_type": "code",
   "execution_count": 8,
   "metadata": {
    "ExecuteTime": {
     "end_time": "2020-12-27T11:14:44.175999Z",
     "start_time": "2020-12-27T11:14:44.145321Z"
    }
   },
   "outputs": [
    {
     "data": {
      "text/plain": [
       "0    420\n",
       "1      3\n",
       "Name: Anti-Male, dtype: int64"
      ]
     },
     "execution_count": 8,
     "metadata": {},
     "output_type": "execute_result"
    }
   ],
   "source": [
    "df['Anti-Male'].value_counts()"
   ]
  },
  {
   "cell_type": "code",
   "execution_count": 9,
   "metadata": {
    "ExecuteTime": {
     "end_time": "2020-12-27T11:14:44.215104Z",
     "start_time": "2020-12-27T11:14:44.193681Z"
    }
   },
   "outputs": [
    {
     "data": {
      "text/plain": [
       "0    416\n",
       "1      7\n",
       "Name: Anti-Female, dtype: int64"
      ]
     },
     "execution_count": 9,
     "metadata": {},
     "output_type": "execute_result"
    }
   ],
   "source": [
    "df['Anti-Female'].value_counts()"
   ]
  },
  {
   "cell_type": "code",
   "execution_count": 10,
   "metadata": {
    "ExecuteTime": {
     "end_time": "2020-12-27T11:14:44.246776Z",
     "start_time": "2020-12-27T11:14:44.224157Z"
    },
    "scrolled": true
   },
   "outputs": [
    {
     "data": {
      "text/plain": [
       "0    414\n",
       "1      6\n",
       "9      1\n",
       "5      1\n",
       "2      1\n",
       "Name: Anti-Age*, dtype: int64"
      ]
     },
     "execution_count": 10,
     "metadata": {},
     "output_type": "execute_result"
    }
   ],
   "source": [
    "df['Anti-Age*'].value_counts()"
   ]
  },
  {
   "cell_type": "markdown",
   "metadata": {},
   "source": [
    "## Hate Crimes by NY County plot"
   ]
  },
  {
   "cell_type": "code",
   "execution_count": 11,
   "metadata": {
    "ExecuteTime": {
     "end_time": "2020-12-27T11:14:46.605956Z",
     "start_time": "2020-12-27T11:14:44.257960Z"
    }
   },
   "outputs": [
    {
     "data": {
      "image/png": "[encoded data removed]",
      "text/plain": [
       "<Figure size 576x396 with 1 Axes>"
      ]
     },
     "metadata": {},
     "output_type": "display_data"
    }
   ],
   "source": [
    "x = df.groupby('County')['Total Incidents'].mean().sort_values().tail(15)\n",
    "x.plot(kind='barh')\n",
    "ax = plt.gca()\n",
    "ax.set_title(\"Hate Crimes by NY County 2010-2016\")\n",
    "fig = plt.gcf()\n",
    "fig.savefig('top_15_counties_hc.png')"
   ]
  },
  {
   "cell_type": "code",
   "execution_count": 12,
   "metadata": {
    "ExecuteTime": {
     "end_time": "2020-12-27T11:14:46.627726Z",
     "start_time": "2020-12-27T11:14:46.615058Z"
    }
   },
   "outputs": [
    {
     "data": {
      "text/plain": [
       "Index(['County', 'Year', 'Crime Type', 'Anti-Male', 'Anti-Female',\n",
       "       'Anti-Transgender', 'Anti-Gender Identity Expression', 'Anti-Age*',\n",
       "       'Anti-White', 'Anti-Black', 'Anti-American Indian/Alaskan Native',\n",
       "       'Anti-Asian', 'Anti-Multi-Racial Groups', 'Anti-Jewish',\n",
       "       'Anti-Catholic', 'Anti-Protestant', 'Anti-Islamic (Muslim)',\n",
       "       'Anti-Multi-Religious Groups', 'Anti-Religious Practice Generally',\n",
       "       'Anti-Other Religion', 'Anti-Eastern Orthodox (Greek, Russian, etc.)',\n",
       "       'Anti-Hindu', 'Anti-Other Christian', 'Anti-Hispanic', 'Anti-Arab',\n",
       "       'Anti-Other Ethnicity/National Origin', 'Anti-Gay Male',\n",
       "       'Anti-Gay Female', 'Anti-Gay (Male and Female)', 'Anti-Heterosexual',\n",
       "       'Anti-Bisexual', 'Anti-Physical Disability', 'Anti-Mental Disability',\n",
       "       'Total Incidents', 'Total Victims', 'Total Offenders'],\n",
       "      dtype='object')"
      ]
     },
     "execution_count": 12,
     "metadata": {},
     "output_type": "execute_result"
    }
   ],
   "source": [
    "df.columns"
   ]
  },
  {
   "cell_type": "markdown",
   "metadata": {
    "ExecuteTime": {
     "end_time": "2020-12-27T06:34:34.620212Z",
     "start_time": "2020-12-27T06:34:34.618315Z"
    }
   },
   "source": [
    "# Country, year, crime type dummy variables"
   ]
  },
  {
   "cell_type": "code",
   "execution_count": 13,
   "metadata": {
    "ExecuteTime": {
     "end_time": "2020-12-27T11:14:46.676107Z",
     "start_time": "2020-12-27T11:14:46.635089Z"
    }
   },
   "outputs": [
    {
     "data": {
      "text/plain": [
       "Index(['Anti-Male', 'Anti-Female', 'Anti-Transgender',\n",
       "       'Anti-Gender Identity Expression', 'Anti-Age*', 'Anti-White',\n",
       "       'Anti-Black', 'Anti-American Indian/Alaskan Native', 'Anti-Asian',\n",
       "       'Anti-Multi-Racial Groups',\n",
       "       ...\n",
       "       'Westchester', '2010', '2011', '2012', '2013', '2014', '2015', '2016',\n",
       "       'Crimes Against Persons', 'Property Crimes'],\n",
       "      dtype='object', length=102)"
      ]
     },
     "execution_count": 13,
     "metadata": {},
     "output_type": "execute_result"
    }
   ],
   "source": [
    "df = pd.get_dummies(df, columns=['County', 'Year',\"Crime Type\"], prefix='', prefix_sep='') \n",
    "\n",
    "df.columns"
   ]
  },
  {
   "cell_type": "markdown",
   "metadata": {},
   "source": [
    "# Modeling -- predicting w/regression Anti-Gay Male crime"
   ]
  },
  {
   "cell_type": "markdown",
   "metadata": {},
   "source": [
    "## Creating x/y test/train split"
   ]
  },
  {
   "cell_type": "code",
   "execution_count": 14,
   "metadata": {
    "ExecuteTime": {
     "end_time": "2020-12-27T11:14:46.706305Z",
     "start_time": "2020-12-27T11:14:46.686602Z"
    }
   },
   "outputs": [],
   "source": [
    "X = df.drop(\"Anti-Gay Male\", axis=1)\n",
    "# X = X.drop(columns=['Total Incidents', 'Total Victims', 'Total Offenders'],axis=1)\n",
    "y = df['Anti-Gay Male']"
   ]
  },
  {
   "cell_type": "code",
   "execution_count": 15,
   "metadata": {
    "ExecuteTime": {
     "end_time": "2020-12-27T11:14:46.746494Z",
     "start_time": "2020-12-27T11:14:46.721458Z"
    }
   },
   "outputs": [],
   "source": [
    "from sklearn.model_selection import train_test_split\n",
    "\n",
    "X_train, X_test, y_train, y_test = train_test_split(X, y, test_size=0.2, random_state=123)"
   ]
  },
  {
   "cell_type": "markdown",
   "metadata": {},
   "source": [
    "## Decision Tree Regression"
   ]
  },
  {
   "cell_type": "code",
   "execution_count": 16,
   "metadata": {
    "ExecuteTime": {
     "end_time": "2020-12-27T11:14:46.856349Z",
     "start_time": "2020-12-27T11:14:46.756177Z"
    }
   },
   "outputs": [
    {
     "data": {
      "text/plain": [
       "DecisionTreeRegressor(ccp_alpha=0.0, criterion='mse', max_depth=None,\n",
       "                      max_features=None, max_leaf_nodes=None,\n",
       "                      min_impurity_decrease=0.0, min_impurity_split=None,\n",
       "                      min_samples_leaf=1, min_samples_split=2,\n",
       "                      min_weight_fraction_leaf=0.0, presort='deprecated',\n",
       "                      random_state=0, splitter='best')"
      ]
     },
     "execution_count": 16,
     "metadata": {},
     "output_type": "execute_result"
    }
   ],
   "source": [
    "from sklearn.tree import DecisionTreeRegressor\n",
    "regressor = DecisionTreeRegressor(random_state=0)\n",
    "regressor.fit(X_train, y_train)"
   ]
  },
  {
   "cell_type": "code",
   "execution_count": 17,
   "metadata": {
    "ExecuteTime": {
     "end_time": "2020-12-27T11:14:46.879770Z",
     "start_time": "2020-12-27T11:14:46.865851Z"
    },
    "scrolled": true
   },
   "outputs": [],
   "source": [
    "y_pred = regressor.predict(X_test)\n",
    "# pred_df=pd.DataFrame({'Actual':y_test, 'Predicted':y_pred})\n",
    "# pred_df"
   ]
  },
  {
   "cell_type": "code",
   "execution_count": 18,
   "metadata": {
    "ExecuteTime": {
     "end_time": "2020-12-27T11:14:46.920417Z",
     "start_time": "2020-12-27T11:14:46.888831Z"
    }
   },
   "outputs": [
    {
     "name": "stdout",
     "output_type": "stream",
     "text": [
      "Mean Absolute Error: 0.8352941176470589\n",
      "Mean Squared Error: 2.6705882352941175\n",
      "Root Mean Squared Error: 1.6341934510008653\n",
      "R2 Score 0.5467465351186283\n"
     ]
    }
   ],
   "source": [
    "from sklearn import metrics\n",
    "print('Mean Absolute Error:', metrics.mean_absolute_error(y_test, y_pred))\n",
    "print('Mean Squared Error:', metrics.mean_squared_error(y_test, y_pred))\n",
    "print('Root Mean Squared Error:', np.sqrt(metrics.mean_squared_error(y_test, y_pred)))\n",
    "print(\"R2 Score\", metrics.r2_score(y_test,y_pred))"
   ]
  },
  {
   "cell_type": "code",
   "execution_count": 19,
   "metadata": {
    "ExecuteTime": {
     "end_time": "2020-12-27T11:14:49.835492Z",
     "start_time": "2020-12-27T11:14:46.935860Z"
    },
    "scrolled": false
   },
   "outputs": [
    {
     "name": "stdout",
     "output_type": "stream",
     "text": [
      "Feature: 0, Score: 0.00000\n",
      "Feature: 1, Score: 0.00006\n",
      "Feature: 2, Score: 0.00000\n",
      "Feature: 3, Score: 0.01631\n",
      "Feature: 4, Score: 0.00000\n",
      "Feature: 5, Score: 0.00013\n",
      "Feature: 6, Score: 0.02542\n",
      "Feature: 7, Score: 0.00000\n",
      "Feature: 8, Score: 0.11246\n",
      "Feature: 9, Score: 0.00000\n",
      "Feature: 10, Score: 0.00116\n",
      "Feature: 11, Score: 0.00637\n",
      "Feature: 12, Score: 0.00000\n",
      "Feature: 13, Score: 0.01407\n",
      "Feature: 14, Score: 0.00000\n",
      "Feature: 15, Score: 0.00000\n",
      "Feature: 16, Score: 0.00462\n",
      "Feature: 17, Score: 0.00000\n",
      "Feature: 18, Score: 0.00000\n",
      "Feature: 19, Score: 0.00073\n",
      "Feature: 20, Score: 0.00120\n",
      "Feature: 21, Score: 0.00012\n",
      "Feature: 22, Score: 0.00404\n",
      "Feature: 23, Score: 0.00020\n",
      "Feature: 24, Score: 0.00000\n",
      "Feature: 25, Score: 0.00000\n",
      "Feature: 26, Score: 0.00000\n",
      "Feature: 27, Score: 0.00000\n",
      "Feature: 28, Score: 0.00000\n",
      "Feature: 29, Score: 0.01646\n",
      "Feature: 30, Score: 0.00708\n",
      "Feature: 31, Score: 0.68233\n",
      "Feature: 32, Score: 0.00000\n",
      "Feature: 33, Score: 0.00000\n",
      "Feature: 34, Score: 0.00000\n",
      "Feature: 35, Score: 0.00000\n",
      "Feature: 36, Score: 0.00004\n",
      "Feature: 37, Score: 0.00000\n",
      "Feature: 38, Score: 0.00000\n",
      "Feature: 39, Score: 0.00005\n",
      "Feature: 40, Score: 0.00000\n",
      "Feature: 41, Score: 0.00006\n",
      "Feature: 42, Score: 0.00000\n",
      "Feature: 43, Score: 0.00003\n",
      "Feature: 44, Score: 0.00000\n",
      "Feature: 45, Score: 0.00000\n",
      "Feature: 46, Score: 0.00000\n",
      "Feature: 47, Score: 0.00005\n",
      "Feature: 48, Score: 0.00000\n",
      "Feature: 49, Score: 0.00000\n",
      "Feature: 50, Score: 0.00000\n",
      "Feature: 51, Score: 0.00000\n",
      "Feature: 52, Score: 0.00000\n",
      "Feature: 53, Score: 0.00003\n",
      "Feature: 54, Score: 0.00010\n",
      "Feature: 55, Score: 0.00000\n",
      "Feature: 56, Score: 0.00000\n",
      "Feature: 57, Score: 0.00000\n",
      "Feature: 58, Score: 0.00036\n",
      "Feature: 59, Score: 0.00000\n",
      "Feature: 60, Score: 0.00006\n",
      "Feature: 61, Score: 0.00129\n",
      "Feature: 62, Score: 0.00000\n",
      "Feature: 63, Score: 0.00018\n",
      "Feature: 64, Score: 0.00005\n",
      "Feature: 65, Score: 0.00000\n",
      "Feature: 66, Score: 0.00000\n",
      "Feature: 67, Score: 0.00000\n",
      "Feature: 68, Score: 0.00000\n",
      "Feature: 69, Score: 0.00079\n",
      "Feature: 70, Score: 0.00000\n",
      "Feature: 71, Score: 0.00000\n",
      "Feature: 72, Score: 0.00054\n",
      "Feature: 73, Score: 0.00003\n",
      "Feature: 74, Score: 0.00000\n",
      "Feature: 75, Score: 0.00000\n",
      "Feature: 76, Score: 0.00000\n",
      "Feature: 77, Score: 0.00000\n",
      "Feature: 78, Score: 0.00000\n",
      "Feature: 79, Score: 0.00000\n",
      "Feature: 80, Score: 0.00005\n",
      "Feature: 81, Score: 0.00002\n",
      "Feature: 82, Score: 0.00000\n",
      "Feature: 83, Score: 0.00123\n",
      "Feature: 84, Score: 0.00000\n",
      "Feature: 85, Score: 0.00000\n",
      "Feature: 86, Score: 0.00012\n",
      "Feature: 87, Score: 0.00000\n",
      "Feature: 88, Score: 0.00000\n",
      "Feature: 89, Score: 0.00000\n",
      "Feature: 90, Score: 0.00000\n",
      "Feature: 91, Score: 0.00000\n",
      "Feature: 92, Score: 0.00110\n",
      "Feature: 93, Score: 0.00095\n",
      "Feature: 94, Score: 0.00048\n",
      "Feature: 95, Score: 0.00375\n",
      "Feature: 96, Score: 0.00082\n",
      "Feature: 97, Score: 0.00027\n",
      "Feature: 98, Score: 0.00000\n",
      "Feature: 99, Score: 0.00000\n",
      "Feature: 100, Score: 0.09477\n"
     ]
    },
    {
     "data": {
      "image/png": "[encoded data removed]",
      "text/plain": [
       "<Figure size 576x396 with 1 Axes>"
      ]
     },
     "metadata": {},
     "output_type": "display_data"
    }
   ],
   "source": [
    "# get importance\n",
    "importance = regressor.feature_importances_\n",
    "# summarize feature importance\n",
    "for i,v in enumerate(importance):\n",
    "    print('Feature: %0d, Score: %.5f' % (i,v))\n",
    "# plot feature importance\n",
    "plt.bar([x for x in range(len(importance))], importance)\n",
    "plt.show()"
   ]
  },
  {
   "cell_type": "code",
   "execution_count": 20,
   "metadata": {
    "ExecuteTime": {
     "end_time": "2020-12-27T11:14:49.853770Z",
     "start_time": "2020-12-27T11:14:49.843738Z"
    }
   },
   "outputs": [
    {
     "data": {
      "text/plain": [
       "'Total Offenders'"
      ]
     },
     "execution_count": 20,
     "metadata": {},
     "output_type": "execute_result"
    }
   ],
   "source": [
    "#doesn't say much\n",
    "X_train.columns[31]"
   ]
  },
  {
   "cell_type": "code",
   "execution_count": 21,
   "metadata": {
    "ExecuteTime": {
     "end_time": "2020-12-27T11:14:49.916667Z",
     "start_time": "2020-12-27T11:14:49.860808Z"
    }
   },
   "outputs": [
    {
     "name": "stdout",
     "output_type": "stream",
     "text": [
      "Mean Absolute Error: 0.8740196078431371\n",
      "Mean Squared Error: 3.1776102941176467\n",
      "Root Mean Squared Error: 1.7825852838272975\n",
      "R2 Score 0.46069451785294835\n"
     ]
    }
   ],
   "source": [
    "from sklearn.feature_selection import SelectFromModel\n",
    "from sklearn.metrics import accuracy_score\n",
    "\n",
    "def select_features(X_train, y_train, X_test,max_features):\n",
    "# configure to select a subset of features\n",
    "    fs = SelectFromModel(DecisionTreeRegressor(random_state=0), max_features=max_features)\n",
    "    # learn relationship from training data\n",
    "    fs.fit(X_train, y_train)\n",
    "    # transform train input data\n",
    "    X_train_fs = fs.transform(X_train)\n",
    "    # transform test input data\n",
    "    X_test_fs = fs.transform(X_test)\n",
    "    return X_train_fs, X_test_fs, fs\n",
    "\n",
    "X_train_fs, X_test_fs, fs = select_features(X_train, y_train, X_test, 20)\n",
    "# fit the model\n",
    "model = DecisionTreeRegressor(random_state=0)\n",
    "model.fit(X_train_fs, y_train)\n",
    "# evaluate the model\n",
    "y_pred = model.predict(X_test_fs)\n",
    "# evaluate predictions\n",
    "print('Mean Absolute Error:', metrics.mean_absolute_error(y_test, y_pred))\n",
    "print('Mean Squared Error:', metrics.mean_squared_error(y_test, y_pred))\n",
    "print('Root Mean Squared Error:', np.sqrt(metrics.mean_squared_error(y_test, y_pred)))\n",
    "print(\"R2 Score\", metrics.r2_score(y_test,y_pred))"
   ]
  },
  {
   "cell_type": "code",
   "execution_count": 22,
   "metadata": {
    "ExecuteTime": {
     "end_time": "2020-12-27T11:14:50.081780Z",
     "start_time": "2020-12-27T11:14:49.925511Z"
    }
   },
   "outputs": [],
   "source": [
    "from sklearn.ensemble import RandomForestRegressor"
   ]
  },
  {
   "cell_type": "code",
   "execution_count": 23,
   "metadata": {
    "ExecuteTime": {
     "end_time": "2020-12-27T11:14:52.135887Z",
     "start_time": "2020-12-27T11:14:50.115728Z"
    }
   },
   "outputs": [
    {
     "name": "stdout",
     "output_type": "stream",
     "text": [
      "Mean Absolute Error: 0.7530588235294117\n",
      "Mean Squared Error: 2.24262\n",
      "Root Mean Squared Error: 1.4975379794849946\n",
      "R2 Score 0.6193815010570826\n"
     ]
    }
   ],
   "source": [
    "regressor = RandomForestRegressor(random_state=0)\n",
    "regressor.fit(X_train, y_train)\n",
    "y_pred = regressor.predict(X_test)\n",
    "print('Mean Absolute Error:', metrics.mean_absolute_error(y_test, y_pred))\n",
    "print('Mean Squared Error:', metrics.mean_squared_error(y_test, y_pred))\n",
    "print('Root Mean Squared Error:', np.sqrt(metrics.mean_squared_error(y_test, y_pred)))\n",
    "print(\"R2 Score\", metrics.r2_score(y_test,y_pred))"
   ]
  },
  {
   "cell_type": "code",
   "execution_count": 24,
   "metadata": {
    "ExecuteTime": {
     "end_time": "2020-12-27T11:14:53.625391Z",
     "start_time": "2020-12-27T11:14:52.150027Z"
    }
   },
   "outputs": [
    {
     "name": "stdout",
     "output_type": "stream",
     "text": [
      "Mean Absolute Error: 0.7750993480789284\n",
      "Mean Squared Error: 2.2897495684585465\n",
      "Root Mean Squared Error: 1.5131918478694453\n",
      "R2 Score 0.6113826489989901\n"
     ]
    }
   ],
   "source": [
    "X_train_fs, X_test_fs, fs = select_features(X_train, y_train, X_test, 100)\n",
    "# fit the model\n",
    "model = RandomForestRegressor(random_state=0)\n",
    "model.fit(X_train_fs, y_train)\n",
    "# evaluate the model\n",
    "y_pred = model.predict(X_test_fs)\n",
    "# evaluate predictions\n",
    "print('Mean Absolute Error:', metrics.mean_absolute_error(y_test, y_pred))\n",
    "print('Mean Squared Error:', metrics.mean_squared_error(y_test, y_pred))\n",
    "print('Root Mean Squared Error:', np.sqrt(metrics.mean_squared_error(y_test, y_pred)))\n",
    "print(\"R2 Score\", metrics.r2_score(y_test,y_pred))"
   ]
  },
  {
   "cell_type": "markdown",
   "metadata": {},
   "source": [
    "### Residiuals plot -- DT Regressor"
   ]
  },
  {
   "cell_type": "code",
   "execution_count": 25,
   "metadata": {
    "ExecuteTime": {
     "end_time": "2020-12-27T11:15:01.809538Z",
     "start_time": "2020-12-27T11:14:53.633858Z"
    },
    "scrolled": true
   },
   "outputs": [
    {
     "data": {
      "image/png": "[encoded data removed]",
      "text/plain": [
       "<Figure size 576x396 with 2 Axes>"
      ]
     },
     "metadata": {},
     "output_type": "display_data"
    }
   ],
   "source": [
    "from sklearn.ensemble import RandomForestRegressor\n",
    "from yellowbrick.regressor import residuals_plot\n",
    "\n",
    "# Create the visualizer, fit, score, and show it\n",
    "viz = residuals_plot(RandomForestRegressor(random_state=0), X_train, y_train, X_test, y_test)"
   ]
  },
  {
   "cell_type": "markdown",
   "metadata": {},
   "source": [
    "## AdaBoostRegressor"
   ]
  },
  {
   "cell_type": "code",
   "execution_count": 26,
   "metadata": {
    "ExecuteTime": {
     "end_time": "2020-12-27T11:15:15.716496Z",
     "start_time": "2020-12-27T11:15:01.815318Z"
    }
   },
   "outputs": [
    {
     "name": "stdout",
     "output_type": "stream",
     "text": [
      "Mean Absolute Error: 0.7530588235294117\n",
      "Mean Squared Error: 2.24262\n",
      "Root Mean Squared Error: 1.4975379794849946\n",
      "R2 Score 0.6193815010570826\n"
     ]
    }
   ],
   "source": [
    "from sklearn.ensemble import AdaBoostRegressor\n",
    "regr = AdaBoostRegressor(random_state=0, n_estimators=1000)\n",
    "regr.fit(X_train, y_train)\n",
    "y_pred = regressor.predict(X_test)\n",
    "print('Mean Absolute Error:', metrics.mean_absolute_error(y_test, y_pred))\n",
    "print('Mean Squared Error:', metrics.mean_squared_error(y_test, y_pred))\n",
    "print('Root Mean Squared Error:', np.sqrt(metrics.mean_squared_error(y_test, y_pred)))\n",
    "print(\"R2 Score\", metrics.r2_score(y_test,y_pred))"
   ]
  },
  {
   "cell_type": "markdown",
   "metadata": {},
   "source": [
    "## Lasso"
   ]
  },
  {
   "cell_type": "code",
   "execution_count": 27,
   "metadata": {
    "ExecuteTime": {
     "end_time": "2020-12-27T11:15:17.399105Z",
     "start_time": "2020-12-27T11:15:15.722784Z"
    }
   },
   "outputs": [
    {
     "data": {
      "image/png": "[encoded data removed]",
      "text/plain": [
       "<Figure size 576x396 with 1 Axes>"
      ]
     },
     "metadata": {},
     "output_type": "display_data"
    }
   ],
   "source": [
    "from sklearn.linear_model import Lasso\n",
    "from yellowbrick.regressor import prediction_error\n",
    "\n",
    "# Instantiate the linear model and visualizer\n",
    "model = Lasso(random_state=0)\n",
    "visualizer = prediction_error(model, X_train, y_train, X_test, y_test)"
   ]
  },
  {
   "cell_type": "markdown",
   "metadata": {},
   "source": [
    "## Elastic Net"
   ]
  },
  {
   "cell_type": "code",
   "execution_count": 28,
   "metadata": {
    "ExecuteTime": {
     "end_time": "2020-12-27T11:15:29.265434Z",
     "start_time": "2020-12-27T11:15:17.405811Z"
    }
   },
   "outputs": [
    {
     "name": "stdout",
     "output_type": "stream",
     "text": [
      "Mean Absolute Error: 0.6944465739093061\n",
      "Mean Squared Error: 1.3587349714052337\n",
      "Root Mean Squared Error: 1.1656478762496132\n",
      "R2 Score 0.7693948750668825\n"
     ]
    }
   ],
   "source": [
    "from sklearn.linear_model import ElasticNetCV\n",
    "regr = ElasticNetCV(cv=5, random_state=0,max_iter=2000)\n",
    "regr.fit(X_train, y_train)\n",
    "y_pred = regr.predict(X_test)\n",
    "print('Mean Absolute Error:', metrics.mean_absolute_error(y_test, y_pred))\n",
    "print('Mean Squared Error:', metrics.mean_squared_error(y_test, y_pred))\n",
    "print('Root Mean Squared Error:', np.sqrt(metrics.mean_squared_error(y_test, y_pred)))\n",
    "print(\"R2 Score\", metrics.r2_score(y_test,y_pred))"
   ]
  },
  {
   "cell_type": "code",
   "execution_count": 29,
   "metadata": {
    "ExecuteTime": {
     "end_time": "2020-12-27T11:15:30.812089Z",
     "start_time": "2020-12-27T11:15:29.268773Z"
    }
   },
   "outputs": [
    {
     "data": {
      "image/png": "[encoded data removed]",
      "text/plain": [
       "<Figure size 576x396 with 1 Axes>"
      ]
     },
     "metadata": {},
     "output_type": "display_data"
    }
   ],
   "source": [
    "visualizer = prediction_error(regr, X_train, y_train, X_test, y_test)"
   ]
  },
  {
   "cell_type": "code",
   "execution_count": 30,
   "metadata": {
    "ExecuteTime": {
     "end_time": "2020-12-27T11:15:34.712835Z",
     "start_time": "2020-12-27T11:15:30.817946Z"
    }
   },
   "outputs": [
    {
     "data": {
      "image/png": "[encoded data removed]",
      "text/plain": [
       "<Figure size 576x396 with 2 Axes>"
      ]
     },
     "metadata": {},
     "output_type": "display_data"
    }
   ],
   "source": [
    "# Create the visualizer, fit, score, and show it\n",
    "viz = residuals_plot(regr, X_train, y_train, X_test, y_test)"
   ]
  },
  {
   "cell_type": "code",
   "execution_count": null,
   "metadata": {},
   "outputs": [],
   "source": []
  }
 ],
 "metadata": {
  "kernelspec": {
   "display_name": "learn-env",
   "language": "python",
   "name": "learn-env"
  },
  "language_info": {
   "codemirror_mode": {
    "name": "ipython",
    "version": 3
   },
   "file_extension": ".py",
   "mimetype": "text/x-python",
   "name": "python",
   "nbconvert_exporter": "python",
   "pygments_lexer": "ipython3",
   "version": "3.7.6"
  },
  "toc": {
   "base_numbering": 1,
   "nav_menu": {},
   "number_sections": true,
   "sideBar": true,
   "skip_h1_title": false,
   "title_cell": "Table of Contents",
   "title_sidebar": "Contents",
   "toc_cell": true,
   "toc_position": {},
   "toc_section_display": true,
   "toc_window_display": true
  }
 },
 "nbformat": 4,
 "nbformat_minor": 2
}
